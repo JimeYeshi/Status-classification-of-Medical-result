{
  "nbformat": 4,
  "nbformat_minor": 0,
  "metadata": {
    "colab": {
      "provenance": []
    },
    "kernelspec": {
      "name": "python3",
      "display_name": "Python 3"
    },
    "language_info": {
      "name": "python"
    }
  },
  "cells": [
    {
      "cell_type": "markdown",
      "source": [
        "# Data Loading & EDA\n",
        "*   Load the CSV (no header) and assign the column names. four\n",
        "*   Display first five rows, summary statistics, and the class distribution (survival_status).\n",
        "* Check for missing or invalid values.\n",
        "\n",
        "\n"
      ],
      "metadata": {
        "id": "KkI9hDDdREIv"
      }
    },
    {
      "cell_type": "code",
      "source": [
        "import pandas as pd\n",
        "df = pd.read_csv('/content/haberman.data')\n",
        "df.columns= ['age', 'operation_year', 'axillary_nodes', 'survival_status']\n",
        "\n",
        "print(\"First 5 rows:\")\n",
        "display(df.head())\n",
        "\n",
        "print(\"\\nSummary statistics:\")\n",
        "display(df.describe())\n",
        "\n",
        "print(\"\\nClass distribution (survival_status):\")\n",
        "display(df['survival_status'].value_counts())\n",
        "\n",
        "print(\"\\nMissing values:\")\n",
        "display(df.isnull().sum())"
      ],
      "metadata": {
        "colab": {
          "base_uri": "https://localhost:8080/",
          "height": 965
        },
        "id": "_Xg-J_sqSxjo",
        "outputId": "2cf422ad-a896-4081-c773-2955fe7cdbd9"
      },
      "execution_count": 1,
      "outputs": [
        {
          "output_type": "stream",
          "name": "stdout",
          "text": [
            "First 5 rows:\n"
          ]
        },
        {
          "output_type": "display_data",
          "data": {
            "text/plain": [
              "   age  operation_year  axillary_nodes  survival_status\n",
              "0   30              62               3                1\n",
              "1   30              65               0                1\n",
              "2   31              59               2                1\n",
              "3   31              65               4                1\n",
              "4   33              58              10                1"
            ],
            "text/html": [
              "\n",
              "  <div id=\"df-9c10e7fe-2f6a-45d0-a12b-660559acb4c3\" class=\"colab-df-container\">\n",
              "    <div>\n",
              "<style scoped>\n",
              "    .dataframe tbody tr th:only-of-type {\n",
              "        vertical-align: middle;\n",
              "    }\n",
              "\n",
              "    .dataframe tbody tr th {\n",
              "        vertical-align: top;\n",
              "    }\n",
              "\n",
              "    .dataframe thead th {\n",
              "        text-align: right;\n",
              "    }\n",
              "</style>\n",
              "<table border=\"1\" class=\"dataframe\">\n",
              "  <thead>\n",
              "    <tr style=\"text-align: right;\">\n",
              "      <th></th>\n",
              "      <th>age</th>\n",
              "      <th>operation_year</th>\n",
              "      <th>axillary_nodes</th>\n",
              "      <th>survival_status</th>\n",
              "    </tr>\n",
              "  </thead>\n",
              "  <tbody>\n",
              "    <tr>\n",
              "      <th>0</th>\n",
              "      <td>30</td>\n",
              "      <td>62</td>\n",
              "      <td>3</td>\n",
              "      <td>1</td>\n",
              "    </tr>\n",
              "    <tr>\n",
              "      <th>1</th>\n",
              "      <td>30</td>\n",
              "      <td>65</td>\n",
              "      <td>0</td>\n",
              "      <td>1</td>\n",
              "    </tr>\n",
              "    <tr>\n",
              "      <th>2</th>\n",
              "      <td>31</td>\n",
              "      <td>59</td>\n",
              "      <td>2</td>\n",
              "      <td>1</td>\n",
              "    </tr>\n",
              "    <tr>\n",
              "      <th>3</th>\n",
              "      <td>31</td>\n",
              "      <td>65</td>\n",
              "      <td>4</td>\n",
              "      <td>1</td>\n",
              "    </tr>\n",
              "    <tr>\n",
              "      <th>4</th>\n",
              "      <td>33</td>\n",
              "      <td>58</td>\n",
              "      <td>10</td>\n",
              "      <td>1</td>\n",
              "    </tr>\n",
              "  </tbody>\n",
              "</table>\n",
              "</div>\n",
              "    <div class=\"colab-df-buttons\">\n",
              "\n",
              "  <div class=\"colab-df-container\">\n",
              "    <button class=\"colab-df-convert\" onclick=\"convertToInteractive('df-9c10e7fe-2f6a-45d0-a12b-660559acb4c3')\"\n",
              "            title=\"Convert this dataframe to an interactive table.\"\n",
              "            style=\"display:none;\">\n",
              "\n",
              "  <svg xmlns=\"http://www.w3.org/2000/svg\" height=\"24px\" viewBox=\"0 -960 960 960\">\n",
              "    <path d=\"M120-120v-720h720v720H120Zm60-500h600v-160H180v160Zm220 220h160v-160H400v160Zm0 220h160v-160H400v160ZM180-400h160v-160H180v160Zm440 0h160v-160H620v160ZM180-180h160v-160H180v160Zm440 0h160v-160H620v160Z\"/>\n",
              "  </svg>\n",
              "    </button>\n",
              "\n",
              "  <style>\n",
              "    .colab-df-container {\n",
              "      display:flex;\n",
              "      gap: 12px;\n",
              "    }\n",
              "\n",
              "    .colab-df-convert {\n",
              "      background-color: #E8F0FE;\n",
              "      border: none;\n",
              "      border-radius: 50%;\n",
              "      cursor: pointer;\n",
              "      display: none;\n",
              "      fill: #1967D2;\n",
              "      height: 32px;\n",
              "      padding: 0 0 0 0;\n",
              "      width: 32px;\n",
              "    }\n",
              "\n",
              "    .colab-df-convert:hover {\n",
              "      background-color: #E2EBFA;\n",
              "      box-shadow: 0px 1px 2px rgba(60, 64, 67, 0.3), 0px 1px 3px 1px rgba(60, 64, 67, 0.15);\n",
              "      fill: #174EA6;\n",
              "    }\n",
              "\n",
              "    .colab-df-buttons div {\n",
              "      margin-bottom: 4px;\n",
              "    }\n",
              "\n",
              "    [theme=dark] .colab-df-convert {\n",
              "      background-color: #3B4455;\n",
              "      fill: #D2E3FC;\n",
              "    }\n",
              "\n",
              "    [theme=dark] .colab-df-convert:hover {\n",
              "      background-color: #434B5C;\n",
              "      box-shadow: 0px 1px 3px 1px rgba(0, 0, 0, 0.15);\n",
              "      filter: drop-shadow(0px 1px 2px rgba(0, 0, 0, 0.3));\n",
              "      fill: #FFFFFF;\n",
              "    }\n",
              "  </style>\n",
              "\n",
              "    <script>\n",
              "      const buttonEl =\n",
              "        document.querySelector('#df-9c10e7fe-2f6a-45d0-a12b-660559acb4c3 button.colab-df-convert');\n",
              "      buttonEl.style.display =\n",
              "        google.colab.kernel.accessAllowed ? 'block' : 'none';\n",
              "\n",
              "      async function convertToInteractive(key) {\n",
              "        const element = document.querySelector('#df-9c10e7fe-2f6a-45d0-a12b-660559acb4c3');\n",
              "        const dataTable =\n",
              "          await google.colab.kernel.invokeFunction('convertToInteractive',\n",
              "                                                    [key], {});\n",
              "        if (!dataTable) return;\n",
              "\n",
              "        const docLinkHtml = 'Like what you see? Visit the ' +\n",
              "          '<a target=\"_blank\" href=https://colab.research.google.com/notebooks/data_table.ipynb>data table notebook</a>'\n",
              "          + ' to learn more about interactive tables.';\n",
              "        element.innerHTML = '';\n",
              "        dataTable['output_type'] = 'display_data';\n",
              "        await google.colab.output.renderOutput(dataTable, element);\n",
              "        const docLink = document.createElement('div');\n",
              "        docLink.innerHTML = docLinkHtml;\n",
              "        element.appendChild(docLink);\n",
              "      }\n",
              "    </script>\n",
              "  </div>\n",
              "\n",
              "\n",
              "    <div id=\"df-d6e98b90-89a6-4956-aa15-297f0a5f138e\">\n",
              "      <button class=\"colab-df-quickchart\" onclick=\"quickchart('df-d6e98b90-89a6-4956-aa15-297f0a5f138e')\"\n",
              "                title=\"Suggest charts\"\n",
              "                style=\"display:none;\">\n",
              "\n",
              "<svg xmlns=\"http://www.w3.org/2000/svg\" height=\"24px\"viewBox=\"0 0 24 24\"\n",
              "     width=\"24px\">\n",
              "    <g>\n",
              "        <path d=\"M19 3H5c-1.1 0-2 .9-2 2v14c0 1.1.9 2 2 2h14c1.1 0 2-.9 2-2V5c0-1.1-.9-2-2-2zM9 17H7v-7h2v7zm4 0h-2V7h2v10zm4 0h-2v-4h2v4z\"/>\n",
              "    </g>\n",
              "</svg>\n",
              "      </button>\n",
              "\n",
              "<style>\n",
              "  .colab-df-quickchart {\n",
              "      --bg-color: #E8F0FE;\n",
              "      --fill-color: #1967D2;\n",
              "      --hover-bg-color: #E2EBFA;\n",
              "      --hover-fill-color: #174EA6;\n",
              "      --disabled-fill-color: #AAA;\n",
              "      --disabled-bg-color: #DDD;\n",
              "  }\n",
              "\n",
              "  [theme=dark] .colab-df-quickchart {\n",
              "      --bg-color: #3B4455;\n",
              "      --fill-color: #D2E3FC;\n",
              "      --hover-bg-color: #434B5C;\n",
              "      --hover-fill-color: #FFFFFF;\n",
              "      --disabled-bg-color: #3B4455;\n",
              "      --disabled-fill-color: #666;\n",
              "  }\n",
              "\n",
              "  .colab-df-quickchart {\n",
              "    background-color: var(--bg-color);\n",
              "    border: none;\n",
              "    border-radius: 50%;\n",
              "    cursor: pointer;\n",
              "    display: none;\n",
              "    fill: var(--fill-color);\n",
              "    height: 32px;\n",
              "    padding: 0;\n",
              "    width: 32px;\n",
              "  }\n",
              "\n",
              "  .colab-df-quickchart:hover {\n",
              "    background-color: var(--hover-bg-color);\n",
              "    box-shadow: 0 1px 2px rgba(60, 64, 67, 0.3), 0 1px 3px 1px rgba(60, 64, 67, 0.15);\n",
              "    fill: var(--button-hover-fill-color);\n",
              "  }\n",
              "\n",
              "  .colab-df-quickchart-complete:disabled,\n",
              "  .colab-df-quickchart-complete:disabled:hover {\n",
              "    background-color: var(--disabled-bg-color);\n",
              "    fill: var(--disabled-fill-color);\n",
              "    box-shadow: none;\n",
              "  }\n",
              "\n",
              "  .colab-df-spinner {\n",
              "    border: 2px solid var(--fill-color);\n",
              "    border-color: transparent;\n",
              "    border-bottom-color: var(--fill-color);\n",
              "    animation:\n",
              "      spin 1s steps(1) infinite;\n",
              "  }\n",
              "\n",
              "  @keyframes spin {\n",
              "    0% {\n",
              "      border-color: transparent;\n",
              "      border-bottom-color: var(--fill-color);\n",
              "      border-left-color: var(--fill-color);\n",
              "    }\n",
              "    20% {\n",
              "      border-color: transparent;\n",
              "      border-left-color: var(--fill-color);\n",
              "      border-top-color: var(--fill-color);\n",
              "    }\n",
              "    30% {\n",
              "      border-color: transparent;\n",
              "      border-left-color: var(--fill-color);\n",
              "      border-top-color: var(--fill-color);\n",
              "      border-right-color: var(--fill-color);\n",
              "    }\n",
              "    40% {\n",
              "      border-color: transparent;\n",
              "      border-right-color: var(--fill-color);\n",
              "      border-top-color: var(--fill-color);\n",
              "    }\n",
              "    60% {\n",
              "      border-color: transparent;\n",
              "      border-right-color: var(--fill-color);\n",
              "    }\n",
              "    80% {\n",
              "      border-color: transparent;\n",
              "      border-right-color: var(--fill-color);\n",
              "      border-bottom-color: var(--fill-color);\n",
              "    }\n",
              "    90% {\n",
              "      border-color: transparent;\n",
              "      border-bottom-color: var(--fill-color);\n",
              "    }\n",
              "  }\n",
              "</style>\n",
              "\n",
              "      <script>\n",
              "        async function quickchart(key) {\n",
              "          const quickchartButtonEl =\n",
              "            document.querySelector('#' + key + ' button');\n",
              "          quickchartButtonEl.disabled = true;  // To prevent multiple clicks.\n",
              "          quickchartButtonEl.classList.add('colab-df-spinner');\n",
              "          try {\n",
              "            const charts = await google.colab.kernel.invokeFunction(\n",
              "                'suggestCharts', [key], {});\n",
              "          } catch (error) {\n",
              "            console.error('Error during call to suggestCharts:', error);\n",
              "          }\n",
              "          quickchartButtonEl.classList.remove('colab-df-spinner');\n",
              "          quickchartButtonEl.classList.add('colab-df-quickchart-complete');\n",
              "        }\n",
              "        (() => {\n",
              "          let quickchartButtonEl =\n",
              "            document.querySelector('#df-d6e98b90-89a6-4956-aa15-297f0a5f138e button');\n",
              "          quickchartButtonEl.style.display =\n",
              "            google.colab.kernel.accessAllowed ? 'block' : 'none';\n",
              "        })();\n",
              "      </script>\n",
              "    </div>\n",
              "\n",
              "    </div>\n",
              "  </div>\n"
            ],
            "application/vnd.google.colaboratory.intrinsic+json": {
              "type": "dataframe",
              "summary": "{\n  \"name\": \"display(df\",\n  \"rows\": 5,\n  \"fields\": [\n    {\n      \"column\": \"age\",\n      \"properties\": {\n        \"dtype\": \"number\",\n        \"std\": 1,\n        \"min\": 30,\n        \"max\": 33,\n        \"num_unique_values\": 3,\n        \"samples\": [\n          30,\n          31,\n          33\n        ],\n        \"semantic_type\": \"\",\n        \"description\": \"\"\n      }\n    },\n    {\n      \"column\": \"operation_year\",\n      \"properties\": {\n        \"dtype\": \"number\",\n        \"std\": 3,\n        \"min\": 58,\n        \"max\": 65,\n        \"num_unique_values\": 4,\n        \"samples\": [\n          65,\n          58,\n          62\n        ],\n        \"semantic_type\": \"\",\n        \"description\": \"\"\n      }\n    },\n    {\n      \"column\": \"axillary_nodes\",\n      \"properties\": {\n        \"dtype\": \"number\",\n        \"std\": 3,\n        \"min\": 0,\n        \"max\": 10,\n        \"num_unique_values\": 5,\n        \"samples\": [\n          0,\n          10,\n          2\n        ],\n        \"semantic_type\": \"\",\n        \"description\": \"\"\n      }\n    },\n    {\n      \"column\": \"survival_status\",\n      \"properties\": {\n        \"dtype\": \"number\",\n        \"std\": 0,\n        \"min\": 1,\n        \"max\": 1,\n        \"num_unique_values\": 1,\n        \"samples\": [\n          1\n        ],\n        \"semantic_type\": \"\",\n        \"description\": \"\"\n      }\n    }\n  ]\n}"
            }
          },
          "metadata": {}
        },
        {
          "output_type": "stream",
          "name": "stdout",
          "text": [
            "\n",
            "Summary statistics:\n"
          ]
        },
        {
          "output_type": "display_data",
          "data": {
            "text/plain": [
              "              age  operation_year  axillary_nodes  survival_status\n",
              "count  305.000000      305.000000      305.000000       305.000000\n",
              "mean    52.531148       62.849180        4.036066         1.265574\n",
              "std     10.744024        3.254078        7.199370         0.442364\n",
              "min     30.000000       58.000000        0.000000         1.000000\n",
              "25%     44.000000       60.000000        0.000000         1.000000\n",
              "50%     52.000000       63.000000        1.000000         1.000000\n",
              "75%     61.000000       66.000000        4.000000         2.000000\n",
              "max     83.000000       69.000000       52.000000         2.000000"
            ],
            "text/html": [
              "\n",
              "  <div id=\"df-1daba720-5750-4b2f-a53c-6e22404de8d6\" class=\"colab-df-container\">\n",
              "    <div>\n",
              "<style scoped>\n",
              "    .dataframe tbody tr th:only-of-type {\n",
              "        vertical-align: middle;\n",
              "    }\n",
              "\n",
              "    .dataframe tbody tr th {\n",
              "        vertical-align: top;\n",
              "    }\n",
              "\n",
              "    .dataframe thead th {\n",
              "        text-align: right;\n",
              "    }\n",
              "</style>\n",
              "<table border=\"1\" class=\"dataframe\">\n",
              "  <thead>\n",
              "    <tr style=\"text-align: right;\">\n",
              "      <th></th>\n",
              "      <th>age</th>\n",
              "      <th>operation_year</th>\n",
              "      <th>axillary_nodes</th>\n",
              "      <th>survival_status</th>\n",
              "    </tr>\n",
              "  </thead>\n",
              "  <tbody>\n",
              "    <tr>\n",
              "      <th>count</th>\n",
              "      <td>305.000000</td>\n",
              "      <td>305.000000</td>\n",
              "      <td>305.000000</td>\n",
              "      <td>305.000000</td>\n",
              "    </tr>\n",
              "    <tr>\n",
              "      <th>mean</th>\n",
              "      <td>52.531148</td>\n",
              "      <td>62.849180</td>\n",
              "      <td>4.036066</td>\n",
              "      <td>1.265574</td>\n",
              "    </tr>\n",
              "    <tr>\n",
              "      <th>std</th>\n",
              "      <td>10.744024</td>\n",
              "      <td>3.254078</td>\n",
              "      <td>7.199370</td>\n",
              "      <td>0.442364</td>\n",
              "    </tr>\n",
              "    <tr>\n",
              "      <th>min</th>\n",
              "      <td>30.000000</td>\n",
              "      <td>58.000000</td>\n",
              "      <td>0.000000</td>\n",
              "      <td>1.000000</td>\n",
              "    </tr>\n",
              "    <tr>\n",
              "      <th>25%</th>\n",
              "      <td>44.000000</td>\n",
              "      <td>60.000000</td>\n",
              "      <td>0.000000</td>\n",
              "      <td>1.000000</td>\n",
              "    </tr>\n",
              "    <tr>\n",
              "      <th>50%</th>\n",
              "      <td>52.000000</td>\n",
              "      <td>63.000000</td>\n",
              "      <td>1.000000</td>\n",
              "      <td>1.000000</td>\n",
              "    </tr>\n",
              "    <tr>\n",
              "      <th>75%</th>\n",
              "      <td>61.000000</td>\n",
              "      <td>66.000000</td>\n",
              "      <td>4.000000</td>\n",
              "      <td>2.000000</td>\n",
              "    </tr>\n",
              "    <tr>\n",
              "      <th>max</th>\n",
              "      <td>83.000000</td>\n",
              "      <td>69.000000</td>\n",
              "      <td>52.000000</td>\n",
              "      <td>2.000000</td>\n",
              "    </tr>\n",
              "  </tbody>\n",
              "</table>\n",
              "</div>\n",
              "    <div class=\"colab-df-buttons\">\n",
              "\n",
              "  <div class=\"colab-df-container\">\n",
              "    <button class=\"colab-df-convert\" onclick=\"convertToInteractive('df-1daba720-5750-4b2f-a53c-6e22404de8d6')\"\n",
              "            title=\"Convert this dataframe to an interactive table.\"\n",
              "            style=\"display:none;\">\n",
              "\n",
              "  <svg xmlns=\"http://www.w3.org/2000/svg\" height=\"24px\" viewBox=\"0 -960 960 960\">\n",
              "    <path d=\"M120-120v-720h720v720H120Zm60-500h600v-160H180v160Zm220 220h160v-160H400v160Zm0 220h160v-160H400v160ZM180-400h160v-160H180v160Zm440 0h160v-160H620v160ZM180-180h160v-160H180v160Zm440 0h160v-160H620v160Z\"/>\n",
              "  </svg>\n",
              "    </button>\n",
              "\n",
              "  <style>\n",
              "    .colab-df-container {\n",
              "      display:flex;\n",
              "      gap: 12px;\n",
              "    }\n",
              "\n",
              "    .colab-df-convert {\n",
              "      background-color: #E8F0FE;\n",
              "      border: none;\n",
              "      border-radius: 50%;\n",
              "      cursor: pointer;\n",
              "      display: none;\n",
              "      fill: #1967D2;\n",
              "      height: 32px;\n",
              "      padding: 0 0 0 0;\n",
              "      width: 32px;\n",
              "    }\n",
              "\n",
              "    .colab-df-convert:hover {\n",
              "      background-color: #E2EBFA;\n",
              "      box-shadow: 0px 1px 2px rgba(60, 64, 67, 0.3), 0px 1px 3px 1px rgba(60, 64, 67, 0.15);\n",
              "      fill: #174EA6;\n",
              "    }\n",
              "\n",
              "    .colab-df-buttons div {\n",
              "      margin-bottom: 4px;\n",
              "    }\n",
              "\n",
              "    [theme=dark] .colab-df-convert {\n",
              "      background-color: #3B4455;\n",
              "      fill: #D2E3FC;\n",
              "    }\n",
              "\n",
              "    [theme=dark] .colab-df-convert:hover {\n",
              "      background-color: #434B5C;\n",
              "      box-shadow: 0px 1px 3px 1px rgba(0, 0, 0, 0.15);\n",
              "      filter: drop-shadow(0px 1px 2px rgba(0, 0, 0, 0.3));\n",
              "      fill: #FFFFFF;\n",
              "    }\n",
              "  </style>\n",
              "\n",
              "    <script>\n",
              "      const buttonEl =\n",
              "        document.querySelector('#df-1daba720-5750-4b2f-a53c-6e22404de8d6 button.colab-df-convert');\n",
              "      buttonEl.style.display =\n",
              "        google.colab.kernel.accessAllowed ? 'block' : 'none';\n",
              "\n",
              "      async function convertToInteractive(key) {\n",
              "        const element = document.querySelector('#df-1daba720-5750-4b2f-a53c-6e22404de8d6');\n",
              "        const dataTable =\n",
              "          await google.colab.kernel.invokeFunction('convertToInteractive',\n",
              "                                                    [key], {});\n",
              "        if (!dataTable) return;\n",
              "\n",
              "        const docLinkHtml = 'Like what you see? Visit the ' +\n",
              "          '<a target=\"_blank\" href=https://colab.research.google.com/notebooks/data_table.ipynb>data table notebook</a>'\n",
              "          + ' to learn more about interactive tables.';\n",
              "        element.innerHTML = '';\n",
              "        dataTable['output_type'] = 'display_data';\n",
              "        await google.colab.output.renderOutput(dataTable, element);\n",
              "        const docLink = document.createElement('div');\n",
              "        docLink.innerHTML = docLinkHtml;\n",
              "        element.appendChild(docLink);\n",
              "      }\n",
              "    </script>\n",
              "  </div>\n",
              "\n",
              "\n",
              "    <div id=\"df-23d532ce-927d-4507-bf37-6d036a1d39ec\">\n",
              "      <button class=\"colab-df-quickchart\" onclick=\"quickchart('df-23d532ce-927d-4507-bf37-6d036a1d39ec')\"\n",
              "                title=\"Suggest charts\"\n",
              "                style=\"display:none;\">\n",
              "\n",
              "<svg xmlns=\"http://www.w3.org/2000/svg\" height=\"24px\"viewBox=\"0 0 24 24\"\n",
              "     width=\"24px\">\n",
              "    <g>\n",
              "        <path d=\"M19 3H5c-1.1 0-2 .9-2 2v14c0 1.1.9 2 2 2h14c1.1 0 2-.9 2-2V5c0-1.1-.9-2-2-2zM9 17H7v-7h2v7zm4 0h-2V7h2v10zm4 0h-2v-4h2v4z\"/>\n",
              "    </g>\n",
              "</svg>\n",
              "      </button>\n",
              "\n",
              "<style>\n",
              "  .colab-df-quickchart {\n",
              "      --bg-color: #E8F0FE;\n",
              "      --fill-color: #1967D2;\n",
              "      --hover-bg-color: #E2EBFA;\n",
              "      --hover-fill-color: #174EA6;\n",
              "      --disabled-fill-color: #AAA;\n",
              "      --disabled-bg-color: #DDD;\n",
              "  }\n",
              "\n",
              "  [theme=dark] .colab-df-quickchart {\n",
              "      --bg-color: #3B4455;\n",
              "      --fill-color: #D2E3FC;\n",
              "      --hover-bg-color: #434B5C;\n",
              "      --hover-fill-color: #FFFFFF;\n",
              "      --disabled-bg-color: #3B4455;\n",
              "      --disabled-fill-color: #666;\n",
              "  }\n",
              "\n",
              "  .colab-df-quickchart {\n",
              "    background-color: var(--bg-color);\n",
              "    border: none;\n",
              "    border-radius: 50%;\n",
              "    cursor: pointer;\n",
              "    display: none;\n",
              "    fill: var(--fill-color);\n",
              "    height: 32px;\n",
              "    padding: 0;\n",
              "    width: 32px;\n",
              "  }\n",
              "\n",
              "  .colab-df-quickchart:hover {\n",
              "    background-color: var(--hover-bg-color);\n",
              "    box-shadow: 0 1px 2px rgba(60, 64, 67, 0.3), 0 1px 3px 1px rgba(60, 64, 67, 0.15);\n",
              "    fill: var(--button-hover-fill-color);\n",
              "  }\n",
              "\n",
              "  .colab-df-quickchart-complete:disabled,\n",
              "  .colab-df-quickchart-complete:disabled:hover {\n",
              "    background-color: var(--disabled-bg-color);\n",
              "    fill: var(--disabled-fill-color);\n",
              "    box-shadow: none;\n",
              "  }\n",
              "\n",
              "  .colab-df-spinner {\n",
              "    border: 2px solid var(--fill-color);\n",
              "    border-color: transparent;\n",
              "    border-bottom-color: var(--fill-color);\n",
              "    animation:\n",
              "      spin 1s steps(1) infinite;\n",
              "  }\n",
              "\n",
              "  @keyframes spin {\n",
              "    0% {\n",
              "      border-color: transparent;\n",
              "      border-bottom-color: var(--fill-color);\n",
              "      border-left-color: var(--fill-color);\n",
              "    }\n",
              "    20% {\n",
              "      border-color: transparent;\n",
              "      border-left-color: var(--fill-color);\n",
              "      border-top-color: var(--fill-color);\n",
              "    }\n",
              "    30% {\n",
              "      border-color: transparent;\n",
              "      border-left-color: var(--fill-color);\n",
              "      border-top-color: var(--fill-color);\n",
              "      border-right-color: var(--fill-color);\n",
              "    }\n",
              "    40% {\n",
              "      border-color: transparent;\n",
              "      border-right-color: var(--fill-color);\n",
              "      border-top-color: var(--fill-color);\n",
              "    }\n",
              "    60% {\n",
              "      border-color: transparent;\n",
              "      border-right-color: var(--fill-color);\n",
              "    }\n",
              "    80% {\n",
              "      border-color: transparent;\n",
              "      border-right-color: var(--fill-color);\n",
              "      border-bottom-color: var(--fill-color);\n",
              "    }\n",
              "    90% {\n",
              "      border-color: transparent;\n",
              "      border-bottom-color: var(--fill-color);\n",
              "    }\n",
              "  }\n",
              "</style>\n",
              "\n",
              "      <script>\n",
              "        async function quickchart(key) {\n",
              "          const quickchartButtonEl =\n",
              "            document.querySelector('#' + key + ' button');\n",
              "          quickchartButtonEl.disabled = true;  // To prevent multiple clicks.\n",
              "          quickchartButtonEl.classList.add('colab-df-spinner');\n",
              "          try {\n",
              "            const charts = await google.colab.kernel.invokeFunction(\n",
              "                'suggestCharts', [key], {});\n",
              "          } catch (error) {\n",
              "            console.error('Error during call to suggestCharts:', error);\n",
              "          }\n",
              "          quickchartButtonEl.classList.remove('colab-df-spinner');\n",
              "          quickchartButtonEl.classList.add('colab-df-quickchart-complete');\n",
              "        }\n",
              "        (() => {\n",
              "          let quickchartButtonEl =\n",
              "            document.querySelector('#df-23d532ce-927d-4507-bf37-6d036a1d39ec button');\n",
              "          quickchartButtonEl.style.display =\n",
              "            google.colab.kernel.accessAllowed ? 'block' : 'none';\n",
              "        })();\n",
              "      </script>\n",
              "    </div>\n",
              "\n",
              "    </div>\n",
              "  </div>\n"
            ],
            "application/vnd.google.colaboratory.intrinsic+json": {
              "type": "dataframe",
              "summary": "{\n  \"name\": \"display(df\",\n  \"rows\": 8,\n  \"fields\": [\n    {\n      \"column\": \"age\",\n      \"properties\": {\n        \"dtype\": \"number\",\n        \"std\": 93.44636057861192,\n        \"min\": 10.744024363993269,\n        \"max\": 305.0,\n        \"num_unique_values\": 8,\n        \"samples\": [\n          52.5311475409836,\n          52.0,\n          305.0\n        ],\n        \"semantic_type\": \"\",\n        \"description\": \"\"\n      }\n    },\n    {\n      \"column\": \"operation_year\",\n      \"properties\": {\n        \"dtype\": \"number\",\n        \"std\": 91.04296286850672,\n        \"min\": 3.2540775509361244,\n        \"max\": 305.0,\n        \"num_unique_values\": 8,\n        \"samples\": [\n          62.84918032786885,\n          63.0,\n          305.0\n        ],\n        \"semantic_type\": \"\",\n        \"description\": \"\"\n      }\n    },\n    {\n      \"column\": \"axillary_nodes\",\n      \"properties\": {\n        \"dtype\": \"number\",\n        \"std\": 105.830750620887,\n        \"min\": 0.0,\n        \"max\": 305.0,\n        \"num_unique_values\": 7,\n        \"samples\": [\n          305.0,\n          4.036065573770492,\n          4.0\n        ],\n        \"semantic_type\": \"\",\n        \"description\": \"\"\n      }\n    },\n    {\n      \"column\": \"survival_status\",\n      \"properties\": {\n        \"dtype\": \"number\",\n        \"std\": 107.39527362766435,\n        \"min\": 0.4423640312591603,\n        \"max\": 305.0,\n        \"num_unique_values\": 5,\n        \"samples\": [\n          1.2655737704918033,\n          2.0,\n          0.4423640312591603\n        ],\n        \"semantic_type\": \"\",\n        \"description\": \"\"\n      }\n    }\n  ]\n}"
            }
          },
          "metadata": {}
        },
        {
          "output_type": "stream",
          "name": "stdout",
          "text": [
            "\n",
            "Class distribution (survival_status):\n"
          ]
        },
        {
          "output_type": "display_data",
          "data": {
            "text/plain": [
              "survival_status\n",
              "1    224\n",
              "2     81\n",
              "Name: count, dtype: int64"
            ],
            "text/html": [
              "<div>\n",
              "<style scoped>\n",
              "    .dataframe tbody tr th:only-of-type {\n",
              "        vertical-align: middle;\n",
              "    }\n",
              "\n",
              "    .dataframe tbody tr th {\n",
              "        vertical-align: top;\n",
              "    }\n",
              "\n",
              "    .dataframe thead th {\n",
              "        text-align: right;\n",
              "    }\n",
              "</style>\n",
              "<table border=\"1\" class=\"dataframe\">\n",
              "  <thead>\n",
              "    <tr style=\"text-align: right;\">\n",
              "      <th></th>\n",
              "      <th>count</th>\n",
              "    </tr>\n",
              "    <tr>\n",
              "      <th>survival_status</th>\n",
              "      <th></th>\n",
              "    </tr>\n",
              "  </thead>\n",
              "  <tbody>\n",
              "    <tr>\n",
              "      <th>1</th>\n",
              "      <td>224</td>\n",
              "    </tr>\n",
              "    <tr>\n",
              "      <th>2</th>\n",
              "      <td>81</td>\n",
              "    </tr>\n",
              "  </tbody>\n",
              "</table>\n",
              "</div><br><label><b>dtype:</b> int64</label>"
            ]
          },
          "metadata": {}
        },
        {
          "output_type": "stream",
          "name": "stdout",
          "text": [
            "\n",
            "Missing values:\n"
          ]
        },
        {
          "output_type": "display_data",
          "data": {
            "text/plain": [
              "age                0\n",
              "operation_year     0\n",
              "axillary_nodes     0\n",
              "survival_status    0\n",
              "dtype: int64"
            ],
            "text/html": [
              "<div>\n",
              "<style scoped>\n",
              "    .dataframe tbody tr th:only-of-type {\n",
              "        vertical-align: middle;\n",
              "    }\n",
              "\n",
              "    .dataframe tbody tr th {\n",
              "        vertical-align: top;\n",
              "    }\n",
              "\n",
              "    .dataframe thead th {\n",
              "        text-align: right;\n",
              "    }\n",
              "</style>\n",
              "<table border=\"1\" class=\"dataframe\">\n",
              "  <thead>\n",
              "    <tr style=\"text-align: right;\">\n",
              "      <th></th>\n",
              "      <th>0</th>\n",
              "    </tr>\n",
              "  </thead>\n",
              "  <tbody>\n",
              "    <tr>\n",
              "      <th>age</th>\n",
              "      <td>0</td>\n",
              "    </tr>\n",
              "    <tr>\n",
              "      <th>operation_year</th>\n",
              "      <td>0</td>\n",
              "    </tr>\n",
              "    <tr>\n",
              "      <th>axillary_nodes</th>\n",
              "      <td>0</td>\n",
              "    </tr>\n",
              "    <tr>\n",
              "      <th>survival_status</th>\n",
              "      <td>0</td>\n",
              "    </tr>\n",
              "  </tbody>\n",
              "</table>\n",
              "</div><br><label><b>dtype:</b> int64</label>"
            ]
          },
          "metadata": {}
        }
      ]
    },
    {
      "cell_type": "markdown",
      "source": [
        "# Findings\n",
        "* Class imbalance\n",
        "* No missing values"
      ],
      "metadata": {
        "id": "bLI83l5RqABi"
      }
    },
    {
      "cell_type": "code",
      "source": [
        "# Percentage of survival status class\n",
        "class_counts = df['survival_status'].value_counts()\n",
        "class_percentages = (class_counts / len(df) * 100).round(2)\n",
        "\n",
        "# Add % sign\n",
        "class_percentages = class_percentages.astype(str) + \"%\"\n",
        "\n",
        "print(class_percentages)\n"
      ],
      "metadata": {
        "id": "e8XnYyUsp_ir",
        "colab": {
          "base_uri": "https://localhost:8080/"
        },
        "outputId": "b33e60b0-f498-45a0-e3da-b079b2078c27"
      },
      "execution_count": 2,
      "outputs": [
        {
          "output_type": "stream",
          "name": "stdout",
          "text": [
            "survival_status\n",
            "1    73.44%\n",
            "2    26.56%\n",
            "Name: count, dtype: object\n"
          ]
        }
      ]
    },
    {
      "cell_type": "markdown",
      "source": [
        "#Preprocessing\n",
        "* Convert survival_status to 0/1 (0 = no, 1 = yes).\n",
        "* Split into 75 % train / 25 % test (random_state=42).\n",
        "* Standardize the three feature columns (age, operation_year, axillary_nodes) using StandardScaler."
      ],
      "metadata": {
        "id": "aFQG02kuWXAB"
      }
    },
    {
      "cell_type": "code",
      "source": [
        "#map survival_status of 2 to 0 and 1 to 1\n",
        "df['survival_status'] = df['survival_status'].map({1: 1, 2: 0})"
      ],
      "metadata": {
        "id": "FtRPTgwDXmIa"
      },
      "execution_count": 3,
      "outputs": []
    },
    {
      "cell_type": "code",
      "source": [
        "#Assign data into feature X and target y\n",
        "X = df.drop('survival_status', axis=1)\n",
        "y = df['survival_status']"
      ],
      "metadata": {
        "id": "byPze-MBZQ08"
      },
      "execution_count": 4,
      "outputs": []
    },
    {
      "cell_type": "code",
      "source": [
        "# Split it into 75% and 25% ratio with random state =42\n",
        "from sklearn.model_selection import train_test_split\n",
        "X_train, X_test, y_train, y_test = train_test_split(\n",
        "    X,y,\n",
        "    test_size=0.25,\n",
        "    random_state=42,\n",
        "    stratify=y\n",
        ")"
      ],
      "metadata": {
        "id": "PsGzfT6dgVc1"
      },
      "execution_count": 5,
      "outputs": []
    },
    {
      "cell_type": "code",
      "source": [
        "#Standardize the three feature columns (age, operation_year, axillary_nodes) using StandardScaler.\n",
        "from sklearn.preprocessing import StandardScaler\n",
        "scaler = StandardScaler()\n",
        "X_train_scaled = scaler.fit_transform(X_train)\n",
        "X_test_scaled = scaler.transform(X_test)"
      ],
      "metadata": {
        "id": "EgPqbBpiifvW"
      },
      "execution_count": 6,
      "outputs": []
    },
    {
      "cell_type": "markdown",
      "source": [
        "# Dimensionality Reduction (Module 4)\n",
        "* Apply PCA on the training features.\n",
        "* Plot cumulative explained variance vs. number of components.\n",
        "* Choose the smallest number of components that retain ≥ 90 % of variance and transform both train and test sets."
      ],
      "metadata": {
        "id": "U8XeJLUPk8Yo"
      }
    },
    {
      "cell_type": "code",
      "source": [
        "# Import libraries\n",
        "from sklearn.decomposition import PCA\n",
        "import matplotlib.pyplot as plt\n",
        "\n",
        "# Apply PCA on the training features\n",
        "pca = PCA()\n",
        "X_train_pca = pca.fit_transform(X_train_scaled)\n",
        "\n",
        "# Explained variance values\n",
        "explained_variance = pca.explained_variance_ratio_\n",
        "cumulative_variance = explained_variance.cumsum()\n",
        "\n",
        "# ----- Plot 1: Cumulative Explained Variance -----\n",
        "plt.figure(figsize=(8,5))\n",
        "plt.plot(cumulative_variance, marker='o', color='blue')\n",
        "plt.axhline(y=0.90, color='red', linestyle='--', label='90% Threshold')\n",
        "plt.title('Cumulative Explained Variance by Number of Components')\n",
        "plt.xlabel('Number of Components')\n",
        "plt.ylabel('Cumulative Explained Variance')\n",
        "plt.xticks(range(1, len(explained_variance)+1))\n",
        "plt.grid(True)\n",
        "plt.legend()\n",
        "plt.show()\n",
        "\n",
        "# ----- Plot 2: Scree Plot with Percentages -----\n",
        "plt.figure(figsize=(8,5))\n",
        "components = range(1, len(explained_variance)+1)\n",
        "plt.bar(components, explained_variance, color='skyblue')\n",
        "plt.title('Scree Plot: Explained Variance per Principal Component')\n",
        "plt.xlabel('Principal Component')\n",
        "plt.ylabel('Explained Variance Ratio')\n",
        "# Add percentages on top of each bar\n",
        "for i, var in enumerate(explained_variance):\n",
        "    plt.text(i + 1, var + 0.01, f\"{var*100:.1f}%\", ha='center', va='bottom', fontsize=9)\n",
        "\n",
        "#plt.xticks(components)\n",
        "#plt.grid(axis='y')\n",
        "plt.show()\n"
      ],
      "metadata": {
        "colab": {
          "base_uri": "https://localhost:8080/",
          "height": 957
        },
        "id": "dgvrQOfYjh44",
        "outputId": "0667fe52-8779-4d5c-8b33-a1a77a08d666"
      },
      "execution_count": 7,
      "outputs": [
        {
          "output_type": "display_data",
          "data": {
            "text/plain": [
              "<Figure size 800x500 with 1 Axes>"
            ],
            "image/png": "[encoded data removed]"
          },
          "metadata": {}
        },
        {
          "output_type": "display_data",
          "data": {
            "text/plain": [
              "<Figure size 800x500 with 1 Axes>"
            ],
            "image/png": "[encoded data removed]"
          },
          "metadata": {}
        }
      ]
    },
    {
      "cell_type": "markdown",
      "source": [
        "# Findings\n",
        "* Number of components to consider using graph  (>90% ) of cumulative explained variance and scree plot is 3\n"
      ],
      "metadata": {
        "id": "vrXa0toBDazx"
      }
    },
    {
      "cell_type": "code",
      "source": [
        "# Choose 3 components\n",
        "pca_3 = PCA(n_components=3)\n",
        "\n",
        "# Fit PCA on training data and transform\n",
        "X_train_pca_3 = pca_3.fit_transform(X_train_scaled)\n",
        "\n",
        "# Transform test data using the same PCA\n",
        "X_test_pca_3 = pca_3.transform(X_test_scaled)\n",
        "\n",
        "# Convert to DataFrame for easy viewing\n",
        "pca_3_df_train = pd.DataFrame(X_train_pca_3, columns=['PC1', 'PC2', 'PC3'])\n",
        "pca_3_df_test = pd.DataFrame(X_test_pca_3, columns=['PC1', 'PC2', 'PC3'])\n",
        "\n",
        "# Show first few rows\n",
        "print(\"Training data (first 5 rows) after PCA:\")\n",
        "print(pca_3_df_train.head())\n",
        "print(\"\\nTest data (first 5 rows) after PCA:\")\n",
        "print(pca_3_df_test.head())\n"
      ],
      "metadata": {
        "colab": {
          "base_uri": "https://localhost:8080/"
        },
        "id": "95SMCAMhGVmI",
        "outputId": "aa5bfdeb-8ad3-4224-fe55-fa32d5c1ddf7"
      },
      "execution_count": 10,
      "outputs": [
        {
          "output_type": "stream",
          "name": "stdout",
          "text": [
            "Training data (first 5 rows) after PCA:\n",
            "        PC1       PC2       PC3\n",
            "0 -1.396825 -1.527242  0.418335\n",
            "1 -0.568284 -1.163826  0.881651\n",
            "2 -0.902051 -0.748060 -1.046244\n",
            "3  0.704794 -0.272100  0.830327\n",
            "4 -1.114358 -1.296078  0.117837\n",
            "\n",
            "Test data (first 5 rows) after PCA:\n",
            "        PC1       PC2       PC3\n",
            "0 -0.059844 -0.747731  0.340755\n",
            "1 -0.235582 -0.681790 -0.368786\n",
            "2 -0.028469 -0.826935  0.755625\n",
            "3  0.267191  0.447340 -0.664030\n",
            "4  1.462024  0.361978  1.286056\n"
          ]
        }
      ]
    },
    {
      "cell_type": "markdown",
      "source": [
        "# 4. Supervised Learning\n",
        "## Train Logistic Regression and Decision Tree classifiers on the PCA-transformed training data.\n",
        "For each model, compare two hyperparameter settings:\n",
        "Logistic Regression: C = [0.1, 1.0]\n",
        "Decision Tree: max_depth = [3, None]\n",
        "Use 5-fold cross-validation on the training set to compute mean accuracy for each setting."
      ],
      "metadata": {
        "id": "rs9ZcYQfrfvG"
      }
    },
    {
      "cell_type": "markdown",
      "source": [
        "# Logistic Regression with C=0.1"
      ],
      "metadata": {
        "id": "_CunTU5fDQLt"
      }
    },
    {
      "cell_type": "code",
      "source": [
        "from sklearn.linear_model import LogisticRegression\n",
        "from sklearn.model_selection import cross_val_score\n",
        "\n",
        "# Create Logistic Regression model with C=0.1\n",
        "logreg = LogisticRegression(C=0.1)\n",
        "\n",
        "# Perform 5-fold cross-validation on the training set\n",
        "cv_scores = cross_val_score(logreg, X_train_pca_3, y_train, cv=5, scoring='accuracy')\n",
        "\n",
        "# Compute mean accuracy\n",
        "mean_accuracy = cv_scores.mean()*100\n",
        "print(f\"Mean 5-Fold cross validation (CV) Accuracy with Logestic Regression (C=0.1) is  {mean_accuracy:.2f}%\")"
      ],
      "metadata": {
        "colab": {
          "base_uri": "https://localhost:8080/"
        },
        "id": "_ezldt-KKEQr",
        "outputId": "72caf75f-0b3d-4bb9-d310-34d4a3b47415"
      },
      "execution_count": 11,
      "outputs": [
        {
          "output_type": "stream",
          "name": "stdout",
          "text": [
            "Mean 5-Fold cross validation (CV) Accuracy with Logestic Regression (C=0.1) is  74.11%\n"
          ]
        }
      ]
    },
    {
      "cell_type": "markdown",
      "source": [
        "# Logistic Regression with C=1"
      ],
      "metadata": {
        "id": "AtU347PJHR15"
      }
    },
    {
      "cell_type": "code",
      "source": [
        "# Create Logistic Regression model with C=0.1\n",
        "logreg = LogisticRegression(C=1)\n",
        "\n",
        "# Perform 5-fold cross-validation on the training set\n",
        "cv_scores = cross_val_score(logreg, X_train_pca_3, y_train, cv=5, scoring='accuracy')\n",
        "\n",
        "# Compute mean accuracy\n",
        "mean_accuracy = cv_scores.mean()*100\n",
        "print(f\"Mean 5-Fold cross validation (CV) Accuracy with Logestic Regression (C=1) is  {mean_accuracy:.2f}%\")\n"
      ],
      "metadata": {
        "id": "fZxw-81pKD8d",
        "colab": {
          "base_uri": "https://localhost:8080/"
        },
        "outputId": "c1567936-b2d6-4832-cc96-5364bc6955e7"
      },
      "execution_count": 12,
      "outputs": [
        {
          "output_type": "stream",
          "name": "stdout",
          "text": [
            "Mean 5-Fold cross validation (CV) Accuracy with Logestic Regression (C=1) is  74.11%\n"
          ]
        }
      ]
    },
    {
      "cell_type": "markdown",
      "source": [
        "# Decision Tree with max_depth = 3"
      ],
      "metadata": {
        "id": "3_RR8k6wICz0"
      }
    },
    {
      "cell_type": "code",
      "source": [
        "from sklearn.tree import DecisionTreeClassifier\n",
        "\n",
        "# Create Decision Tree model with max_depth = 3\n",
        "dt_model = DecisionTreeClassifier(max_depth=3)\n",
        "\n",
        "# Perform 5-fold cross-validation on the training set\n",
        "dt_cv_scores = cross_val_score(dt_model, X_train_pca_3, y_train, cv=5, scoring='accuracy')\n",
        "\n",
        "# Compute mean accuracy\n",
        "dt_mean_accuracy = dt_cv_scores.mean() * 100\n",
        "print(f\"Mean 5-Fold Cross Validation (CV) Accuracy with Decision Tree (max_depth=3) is {dt_mean_accuracy:.2f}%\")\n"
      ],
      "metadata": {
        "colab": {
          "base_uri": "https://localhost:8080/"
        },
        "id": "ES4E4tBfHg1F",
        "outputId": "5bf90dc8-6b2a-430e-f150-1a5bc1e84be7"
      },
      "execution_count": 13,
      "outputs": [
        {
          "output_type": "stream",
          "name": "stdout",
          "text": [
            "Mean 5-Fold Cross Validation (CV) Accuracy with Decision Tree (max_depth=3) is 70.61%\n"
          ]
        }
      ]
    },
    {
      "cell_type": "code",
      "source": [
        "# Create Decision Tree model with max_depth = 3\n",
        "dt_model = DecisionTreeClassifier(max_depth=None)\n",
        "\n",
        "# Perform 5-fold cross-validation on the training set\n",
        "dt_cv_scores = cross_val_score(dt_model, X_train_pca_3, y_train, cv=5, scoring='accuracy')\n",
        "\n",
        "# Compute mean accuracy\n",
        "dt_mean_accuracy = dt_cv_scores.mean() * 100\n",
        "print(f\"Mean 5-Fold Cross Validation (CV) Accuracy with Decision Tree (max_depth=NOne) is {dt_mean_accuracy:.2f}%\")\n"
      ],
      "metadata": {
        "colab": {
          "base_uri": "https://localhost:8080/"
        },
        "id": "Ktz9B7N4JKKQ",
        "outputId": "aaecb781-c0a3-46d2-b210-801b2c0899b5"
      },
      "execution_count": 14,
      "outputs": [
        {
          "output_type": "stream",
          "name": "stdout",
          "text": [
            "Mean 5-Fold Cross Validation (CV) Accuracy with Decision Tree (max_depth=NOne) is 64.45%\n"
          ]
        }
      ]
    },
    {
      "cell_type": "markdown",
      "source": [
        "# 5. Model Evaluation & Optimization\n",
        "On the test set (PCA-transformed), for each model’s best hyperparameter setting, compute:Accuracy, precision, recall, F₁-score, ROC curve and AUC\n",
        "Plot both models’ ROC curves on the same axes and discuss which is preferable and why.\n"
      ],
      "metadata": {
        "id": "JHSgJO1dH1Tg"
      }
    },
    {
      "cell_type": "code",
      "source": [
        "from sklearn.metrics import accuracy_score, precision_score, recall_score, f1_score, roc_curve, auc\n",
        "from sklearn.metrics import classification_report, ConfusionMatrixDisplay, RocCurveDisplay\n",
        "import matplotlib.pyplot as plt\n",
        "# Models with best hyperparameter settings\n",
        "# Logistic Regression (best C=1) and Decision Tree (best max_depth=3)\n",
        "logreg_model = LogisticRegression(C=1)\n",
        "dt_model = DecisionTreeClassifier(max_depth=3, random_state=42)\n",
        "\n",
        "# Fit Models on Training Data\n",
        "logreg_model.fit(X_train_pca_3, y_train)\n",
        "dt_model.fit(X_train_pca_3, y_train)\n",
        "\n",
        "# Predict\n",
        "y_pred_logreg = logreg_model.predict(X_test_pca_3)\n",
        "y_pred_dt = dt_model.predict(X_test_pca_3)\n",
        "# 4. Compute evaluation metrics\n",
        "accuracy_logreg = accuracy_score(y_test, y_pred_logreg)\n",
        "precision_logreg = precision_score(y_test, y_pred_logreg)\n",
        "recall_logreg = recall_score(y_test, y_pred_logreg)\n",
        "f1_logreg = f1_score(y_test, y_pred_logreg)\n",
        "\n",
        "print(\"Logistic Regression Performance:\")\n",
        "print(\"Accuracy:\", accuracy_logreg)\n",
        "print(\"Precision:\", precision_logreg)\n",
        "print(\"Recall:\", recall_logreg)\n",
        "print(\"F1-score:\", f1_logreg)\n",
        "\n",
        "accuracy_dt = accuracy_score(y_test, y_pred_dt)\n",
        "precision_dt = precision_score(y_test, y_pred_dt)\n",
        "recall_dt = recall_score(y_test, y_pred_dt)\n",
        "f1_dt = f1_score(y_test, y_pred_dt)\n",
        "\n",
        "print(\"\\nDecision Tree Performance:\")\n",
        "print(\"Accuracy:\", accuracy_dt)\n",
        "print(\"Precision:\", precision_dt)\n",
        "print(\"Recall:\", recall_dt)\n",
        "print(\"F1-score:\", f1_dt)"
      ],
      "metadata": {
        "colab": {
          "base_uri": "https://localhost:8080/"
        },
        "id": "B_28-PxCKLpL",
        "outputId": "abe32450-dcc0-4457-f000-bd72f5c04c15"
      },
      "execution_count": 28,
      "outputs": [
        {
          "output_type": "stream",
          "name": "stdout",
          "text": [
            "Logistic Regression Performance:\n",
            "Accuracy: 0.7532467532467533\n",
            "Precision: 0.7638888888888888\n",
            "Recall: 0.9649122807017544\n",
            "F1-score: 0.8527131782945736\n",
            "\n",
            "Decision Tree Performance:\n",
            "Accuracy: 0.7272727272727273\n",
            "Precision: 0.8\n",
            "Recall: 0.8421052631578947\n",
            "F1-score: 0.8205128205128205\n"
          ]
        }
      ]
    },
    {
      "cell_type": "markdown",
      "source": [
        "Model Comparison Summary\n",
        "Metric\tLogistic Regression\tDecision Tree\tBetter\n",
        "Accuracy\t0.7532\t0.7273\tLogistic Regression\n",
        "Precision\t0.7639\t0.8000\tDecision Tree\n",
        "Recall\t0.9649\t0.8421\tLogistic Regression\n",
        "F1-score\t0.8527\t0.8205\tLogistic Regression"
      ],
      "metadata": {
        "id": "u8VLoZFjK0Bb"
      }
    },
    {
      "cell_type": "code",
      "source": [
        "from sklearn.metrics import roc_curve, auc, RocCurveDisplay\n",
        "\n",
        "# Compute predicted probabilities for ROC curve\n",
        "y_prob_logreg = logreg_model.predict_proba(X_test_pca_3)[:, 1]\n",
        "y_prob_dt = dt_model.predict_proba(X_test_pca_3)[:, 1]\n",
        "\n",
        "# Compute ROC curve and AUC for Logistic Regression\n",
        "fpr_logreg, tpr_logreg, _ = roc_curve(y_test, y_prob_logreg)\n",
        "auc_logreg = auc(fpr_logreg, tpr_logreg)\n",
        "print (f'Logestic Regression AUC = {auc_logreg:.2f}')\n",
        "# Compute ROC curve and AUC for Decision Tree\n",
        "fpr_dt, tpr_dt, _ = roc_curve(y_test, y_prob_dt)\n",
        "auc_dt = auc(fpr_dt, tpr_dt)\n",
        "print (f'Decision Tree AUC = {auc_dt:.2f}')\n",
        "# Plot ROC curves\n",
        "plt.figure(figsize=(8,6))\n",
        "plt.plot(fpr_logreg, tpr_logreg, color='blue', lw=2, label=f'Logistic Regression (AUC = {auc_logreg:.2f})')\n",
        "plt.plot(fpr_dt, tpr_dt, color='green', lw=2, label=f'Decision Tree (AUC = {auc_dt:.2f})')\n",
        "plt.plot([0, 1], [0, 1], color='red', lw=2, linestyle='--', label='Random Classifier')\n",
        "plt.xlim([0.0, 1.0])\n",
        "plt.ylim([0.0, 1.05])\n",
        "plt.xlabel('False Positive Rate')\n",
        "plt.ylabel('True Positive Rate')\n",
        "plt.title('ROC Curve Comparison')\n",
        "plt.legend(loc='lower right')\n",
        "plt.grid(True)\n",
        "plt.show()\n"
      ],
      "metadata": {
        "colab": {
          "base_uri": "https://localhost:8080/",
          "height": 599
        },
        "id": "AUiddLlgLz1M",
        "outputId": "805e8969-4ddc-46f7-9dc6-a33bb2f68812"
      },
      "execution_count": 35,
      "outputs": [
        {
          "output_type": "stream",
          "name": "stdout",
          "text": [
            "Logestic Regression AUC = 0.70\n",
            "Decision Tree AUC = 0.66\n"
          ]
        },
        {
          "output_type": "display_data",
          "data": {
            "text/plain": [
              "<Figure size 800x600 with 1 Axes>"
            ],
            "image/png": "[encoded data removed]"
          },
          "metadata": {}
        }
      ]
    }
  ]
}